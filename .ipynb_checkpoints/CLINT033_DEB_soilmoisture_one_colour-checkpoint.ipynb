{
 "cells": [
  {
   "cell_type": "markdown",
   "id": "1729373a-1dab-4878-a800-0888ed15b646",
   "metadata": {
    "tags": []
   },
   "source": [
    "# CLINT WP5: DEBUG: why do all the maps of soil moisture have only one color?\n",
    "\n",
    "### 2023/09/20\n"
   ]
  },
  {
   "cell_type": "code",
   "execution_count": 1,
   "id": "fb086751-f7f1-4884-874a-9e888018fd7b",
   "metadata": {
    "tags": []
   },
   "outputs": [
    {
     "data": {
      "text/plain": [
       "<module 'CLINT001_functions' from '/Users/antonellosquintu/Library/Mobile Documents/com~apple~CloudDocs/CMCC-iCloud/CLINT/CLINT001_functions.py'>"
      ]
     },
     "execution_count": 1,
     "metadata": {},
     "output_type": "execute_result"
    }
   ],
   "source": [
    "import numpy as np\n",
    "import pandas as pd\n",
    "import xarray as xr\n",
    "import netCDF4 as nc\n",
    "from datetime import datetime as dt\n",
    "import matplotlib.pyplot as plt\n",
    "import matplotlib as mpl\n",
    "import cartopy.crs as ccrs\n",
    "import cartopy\n",
    "import importlib\n",
    "import seaborn as sns\n",
    "#from mpl_toolkits import Basemap\n",
    "import CLINT001_functions as clint\n",
    "importlib.reload(clint)"
   ]
  },
  {
   "cell_type": "code",
   "execution_count": 2,
   "id": "3410b3ae-7717-49fd-8052-0e8fc9bbc558",
   "metadata": {
    "tags": []
   },
   "outputs": [],
   "source": [
    "## DIRECTORIES\n",
    "machine = 'workstation'\n",
    "\n",
    "if machine == 'laptop':\n",
    "    modeldir = '~/Documents/CMCC-GoogleDrive/ERA5/'\n",
    "    maskdir = '~/Documents/CMCC-GoogleDrive/Mask_Clusters/Test3_Clusters/'\n",
    "    plotdir = '/Users/squintu/Documents/CMCC-GoogleDrive/plots_for_reports/'\n",
    "    \n",
    "if machine == 'workstation':\n",
    "    modeldir = '~/Documents/CMCC-GoogleDrive/ERA5/'\n",
    "    maskdir = '~/Documents/CMCC-GoogleDrive/Mask_Clusters/Test3_Clusters/'\n",
    "    plotdir = '/Users/antonellosquintu/Documents/CMCC-GoogleDrive/plots_for_reports/'"
   ]
  },
  {
   "cell_type": "code",
   "execution_count": 3,
   "id": "70235581-064b-4489-93bc-71930318ddc4",
   "metadata": {
    "tags": []
   },
   "outputs": [],
   "source": [
    "## Open land-sea mask and round to integer\n",
    "## The mask has values between 0 and 1 according to the proportion of the grid-point\n",
    "##  which is covered by land\n",
    "## Any gridpoint with more than 0.5 is rounded to 1 and considered land\n",
    "\n",
    "lsm = xr.open_dataset(f'{modeldir}/era5_lsm.nc').round()"
   ]
  },
  {
   "cell_type": "code",
   "execution_count": 4,
   "id": "e6483c9c-30cd-4584-95b1-47e0410a2238",
   "metadata": {
    "tags": []
   },
   "outputs": [],
   "source": [
    "### Read series of tmax and HWMI related to Lake Como\n",
    "lchw = pd.read_csv('LakeComo_tmax_HW.csv',index_col='date')"
   ]
  },
  {
   "cell_type": "code",
   "execution_count": 5,
   "id": "eafc5315-6d03-4d99-92fc-57b0714238f7",
   "metadata": {
    "tags": []
   },
   "outputs": [],
   "source": [
    "### Identify 2019 heat wave\n",
    "\n",
    "row_maxHWMI = lchw.loc[lchw['Valle_HWintensity'].idxmax()]\n",
    "date2019_dt = dt.strptime(row_maxHWMI.name,\"%Y-%m-%d\")\n",
    "date2019_ts = pd.to_datetime(date2019_dt)"
   ]
  },
  {
   "cell_type": "code",
   "execution_count": 6,
   "id": "91a5b335-667d-4591-bdba-26262ba74d5d",
   "metadata": {
    "tags": []
   },
   "outputs": [],
   "source": [
    "### Identify dates\n",
    "date_aux_dt = dt.strptime(lchw.loc[lchw.year==1983]['Valle_HWintensity'].idxmax(),\"%Y-%m-%d\")\n",
    "date_aux_ts = pd.to_datetime(date_aux_dt)"
   ]
  },
  {
   "cell_type": "code",
   "execution_count": 7,
   "id": "ac4125aa-2bf2-4492-9808-f994b9fad2ab",
   "metadata": {
    "tags": []
   },
   "outputs": [
    {
     "data": {
      "text/plain": [
       "Timestamp('1983-07-21 00:00:00')"
      ]
     },
     "execution_count": 7,
     "metadata": {},
     "output_type": "execute_result"
    }
   ],
   "source": [
    "date_aux_ts"
   ]
  },
  {
   "cell_type": "code",
   "execution_count": 8,
   "id": "667935a3-2894-4d5d-b38f-59070ffff932",
   "metadata": {
    "tags": []
   },
   "outputs": [],
   "source": [
    "## indicate the date of the events and the variables to be included\n",
    "\n",
    "dates_ts = (pd.to_datetime(\"2022-07-22\"), \n",
    "            pd.to_datetime(\"2019-06-27\"), \n",
    "            pd.to_datetime(\"2003-08-11\"), \n",
    "            pd.to_datetime(\"1983-07-21\"))\n",
    "\n",
    "\n",
    "variables = ['tmax','mslp','sm']"
   ]
  },
  {
   "cell_type": "code",
   "execution_count": 14,
   "id": "599e675c-aa87-45a6-9241-c35f8ad312a3",
   "metadata": {
    "tags": []
   },
   "outputs": [],
   "source": [
    "date_ts = pd.to_datetime(\"2022-07-22\")\n",
    "var = 'sm'"
   ]
  },
  {
   "cell_type": "code",
   "execution_count": 10,
   "id": "20bc27d5-7207-4940-a4d4-009c6fe0d84a",
   "metadata": {
    "tags": []
   },
   "outputs": [],
   "source": [
    "importlib.reload(clint)\n",
    "drivers = pd.read_csv('./metadata/drivers.csv')"
   ]
  },
  {
   "cell_type": "markdown",
   "id": "e96b46e7-b9ea-4ddf-a5fd-afad6965b01e",
   "metadata": {
    "tags": []
   },
   "source": [
    "### From function \n",
    "### clint.loop_map_grids(drivers, dates_ts, variables, lsm, modeldir, maskdir, plotdir)"
   ]
  },
  {
   "cell_type": "code",
   "execution_count": 15,
   "id": "1fb7b979-d64b-4491-a01b-35921a446307",
   "metadata": {
    "tags": []
   },
   "outputs": [],
   "source": [
    "y = date_ts.year\n",
    "drivers_sub = drivers.loc[drivers['var'] == var]\n",
    "anom_xr = xr.open_dataset(f'{modeldir}/era5_{var}_dailyanom_{y}_cropped.nc')\n",
    "if var == 'mslp':\n",
    "    anom_xr['msl'] = anom_xr['msl']/100\n",
    "    "
   ]
  },
  {
   "cell_type": "code",
   "execution_count": 16,
   "id": "39557023-079c-474e-83fb-18c6651b5468",
   "metadata": {
    "tags": []
   },
   "outputs": [],
   "source": [
    "drivers_row = drivers_sub.iloc[0]"
   ]
  },
  {
   "cell_type": "code",
   "execution_count": 18,
   "id": "9adf543e-f37d-48c1-90d8-f54d9c3a3b2a",
   "metadata": {
    "tags": []
   },
   "outputs": [],
   "source": [
    "mask_df = pd.read_csv(f\"{maskdir}{drivers_row['clmask_test3']}\",index_col=[0])\n",
    "cl_nr = drivers_row['cl_nr']\n",
    "submask = mask_df[mask_df.cluster == cl_nr]\n",
    "maskedanom = clint.mask_xr_w_df(var, anom_xr, submask, lsm)"
   ]
  },
  {
   "cell_type": "code",
   "execution_count": 23,
   "id": "0c45ba02-9ae8-426f-bb68-ef2c544cb8c7",
   "metadata": {
    "tags": []
   },
   "outputs": [
    {
     "data": {
      "text/plain": [
       "<matplotlib.collections.QuadMesh at 0x11fdd9c90>"
      ]
     },
     "execution_count": 23,
     "metadata": {},
     "output_type": "execute_result"
    },
    {
     "data": {
      "image/png": "[encoded data removed]",
      "text/plain": [
       "<Figure size 640x480 with 2 Axes>"
      ]
     },
     "metadata": {},
     "output_type": "display_data"
    }
   ],
   "source": [
    "maskedanom.isel(time=1)['swvl1'].plot()"
   ]
  },
  {
   "cell_type": "code",
   "execution_count": null,
   "id": "92d15464-ac5f-4f91-ad5f-62d42f20b1fd",
   "metadata": {},
   "outputs": [],
   "source": [
    "multimaps_lag (xrdf = maskedanom, targetdate_ts = date_ts, \n",
    "                     drivers_row = drivers_row, plotdir = plotdir,\n",
    "                     proj = 'Ortographic', \n",
    "                     vmin='drivers', vmax='drivers')\n",
    "\n",
    "daily_series_w_lags(anom_xr, drivers_row, date_ts, 'centroid', plotdir)\n",
    "daily_series_w_lags(anom_xr, drivers_row, date_ts, 'average', plotdir)"
   ]
  }
 ],
 "metadata": {
  "kernelspec": {
   "display_name": "Python 3 (ipykernel)",
   "language": "python",
   "name": "python3"
  },
  "language_info": {
   "codemirror_mode": {
    "name": "ipython",
    "version": 3
   },
   "file_extension": ".py",
   "mimetype": "text/x-python",
   "name": "python",
   "nbconvert_exporter": "python",
   "pygments_lexer": "ipython3",
   "version": "3.11.4"
  }
 },
 "nbformat": 4,
 "nbformat_minor": 5
}
