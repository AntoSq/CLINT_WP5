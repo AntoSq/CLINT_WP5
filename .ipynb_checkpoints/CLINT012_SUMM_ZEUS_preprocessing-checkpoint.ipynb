{
 "cells": [
  {
   "cell_type": "markdown",
   "id": "3282f375-1f85-432f-b6bb-883e89ffe410",
   "metadata": {},
   "source": [
    "## Intermediate steps performed on ZEUS\n",
    "\n",
    "Hourly files available on ZEUS were aggregated on a daily basis (daily largest max temp and daily average mslp).\n",
    "Climatological averages on the period 1981-2010 were calculated.\n",
    "This allowed to calculate daily anomalies for the years 2019 and 2022 which include the two considered case studies\n"
   ]
  }
 ],
 "metadata": {
  "kernelspec": {
   "display_name": "Python 3 (ipykernel)",
   "language": "python",
   "name": "python3"
  },
  "language_info": {
   "name": ""
  }
 },
 "nbformat": 4,
 "nbformat_minor": 5
}
