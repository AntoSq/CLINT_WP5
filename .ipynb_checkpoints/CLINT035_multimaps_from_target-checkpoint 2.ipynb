{
 "cells": [
  {
   "cell_type": "markdown",
   "id": "a4a2733a-782d-41d6-8e4f-257af15e2eb2",
   "metadata": {
    "tags": []
   },
   "source": [
    "# CLINT WP5: MultiMaps of anomaly of drivers (w/r to 1981-2010) in detected areas and periods. \n",
    "## Possibility to indicate any date and generate maps.\n",
    "### 2023/08/29 - 2023/08/30\n",
    "## Inclusion of soil moisture\n",
    "### 2023/09/18 - 2023/09/19\n",
    "## Inclusion of land-sea mask for temperature and calculation of serie of driver's average\n",
    "### 2023/09/19 - 2023/09/20"
   ]
  },
  {
   "cell_type": "code",
   "execution_count": 8,
   "id": "6f607934-0a58-4ab5-acff-03131bab7f29",
   "metadata": {
    "tags": []
   },
   "outputs": [
    {
     "data": {
      "text/plain": [
       "<module 'CLINT001_functions' from '/Users/antonellosquintu/Library/Mobile Documents/com~apple~CloudDocs/CMCC-iCloud/CLINT/CLINT001_functions.py'>"
      ]
     },
     "execution_count": 8,
     "metadata": {},
     "output_type": "execute_result"
    }
   ],
   "source": [
    "import numpy as np\n",
    "import pandas as pd\n",
    "import xarray as xr\n",
    "import netCDF4 as nc\n",
    "from datetime import datetime as dt\n",
    "import matplotlib.pyplot as plt\n",
    "import matplotlib as mpl\n",
    "import cartopy.crs as ccrs\n",
    "import cartopy\n",
    "import importlib\n",
    "import seaborn as sns\n",
    "#from mpl_toolkits import Basemap\n",
    "import CLINT001_functions as clint\n",
    "importlib.reload(clint)"
   ]
  },
  {
   "cell_type": "code",
   "execution_count": 9,
   "id": "38f0c387-baf0-4774-b0f3-843aeffd7d9c",
   "metadata": {
    "tags": []
   },
   "outputs": [],
   "source": [
    "## DIRECTORIES\n",
    "machine = 'laptop'\n",
    "\n",
    "if machine == 'laptop':\n",
    "    modeldir = '~/Documents/CMCC-GoogleDrive/ERA5/'\n",
    "    obsdir = modeldir\n",
    "    maskdir = '~/Documents/CMCC-GoogleDrive/Mask_Clusters/Test3_Clusters/'\n",
    "    plotdir = '/Users/squintu/Documents/CMCC-GoogleDrive/plots_for_reports/'\n",
    "    \n",
    "if machine == 'workstation':\n",
    "    modeldir = '~/Documents/CMCC-GoogleDrive/ERA5/'\n",
    "    obsdir = modeldir\n",
    "    maskdir = '~/Documents/CMCC-GoogleDrive/Mask_Clusters/Test3_Clusters/'\n",
    "    plotdir = '/Users/antonellosquintu/Documents/CMCC-GoogleDrive/plots_for_reports/'\n",
    "    \n",
    "if machine == 'juno':\n",
    "    modeldir = '/data/csp/as18623/ERA5/'\n",
    "    obsdir = '/data/csp/as18623/CLINT_obs/'\n",
    "    maskdir = '/data/csp/as18623/CLINT_metadata/Masks/Test3_Clusters/'\n",
    "    plotdir = '/work/csp/as18623/CLINT_WP5/maps_and_plots/'"
   ]
  },
  {
   "cell_type": "code",
   "execution_count": 10,
   "id": "3b457a09-420b-48ba-bcfd-501e09158c5e",
   "metadata": {
    "tags": []
   },
   "outputs": [
    {
     "data": {
      "text/plain": [
       "'~/Documents/CMCC-GoogleDrive/ERA5//era5_lsm.nc'"
      ]
     },
     "execution_count": 10,
     "metadata": {},
     "output_type": "execute_result"
    }
   ],
   "source": [
    "f'{modeldir}/era5_lsm.nc'"
   ]
  },
  {
   "cell_type": "code",
   "execution_count": 11,
   "id": "c3c74244-f7dc-4966-bd7b-3845777925d1",
   "metadata": {
    "tags": []
   },
   "outputs": [],
   "source": [
    "## Open land-sea mask and round to integer\n",
    "## The mask has values between 0 and 1 according to the proportion of the grid-point\n",
    "##  which is covered by land\n",
    "## Any gridpoint with more than 0.5 is rounded to 1 and considered land\n",
    "\n",
    "lsm = xr.open_dataset(f'{modeldir}era5_lsm.nc').round()"
   ]
  },
  {
   "cell_type": "code",
   "execution_count": null,
   "id": "3cc72f34-0980-4624-b5fd-ebd89c8d0fef",
   "metadata": {
    "tags": []
   },
   "outputs": [],
   "source": [
    "### Read series of tmax and HWMI related to Lake Como\n",
    "lchw = pd.read_csv('LakeComo_tmax_HW.csv',index_col='date')"
   ]
  },
  {
   "cell_type": "code",
   "execution_count": null,
   "id": "33f1ca69-3f1b-470a-b17b-490ec8e44145",
   "metadata": {
    "tags": []
   },
   "outputs": [],
   "source": [
    "### Identify 2019 heat wave\n",
    "\n",
    "row_maxHWMI = lchw.loc[lchw['Valle_HWintensity'].idxmax()]\n",
    "date2019_dt = dt.strptime(row_maxHWMI.name,\"%Y-%m-%d\")\n",
    "date2019_ts = pd.to_datetime(date2019_dt)"
   ]
  },
  {
   "cell_type": "code",
   "execution_count": null,
   "id": "e24b1f6c-e7ee-4c73-afc9-93b4c4c2cdf5",
   "metadata": {
    "tags": []
   },
   "outputs": [],
   "source": [
    "### Identify dates\n",
    "date_aux_dt = dt.strptime(lchw.loc[lchw.year==1983]['Valle_HWintensity'].idxmax(),\"%Y-%m-%d\")\n",
    "date_aux_ts = pd.to_datetime(date_aux_dt)"
   ]
  },
  {
   "cell_type": "code",
   "execution_count": null,
   "id": "2674c506-62b6-4738-b674-ae0b747f87be",
   "metadata": {
    "tags": []
   },
   "outputs": [],
   "source": [
    "date_aux_ts"
   ]
  },
  {
   "cell_type": "code",
   "execution_count": null,
   "id": "08fae1df-dea5-4bed-acf4-713e351eb2f4",
   "metadata": {
    "tags": []
   },
   "outputs": [],
   "source": [
    "## indicate the date of the events and the variables to be included\n",
    "\n",
    "dates_ts = (pd.to_datetime(\"2022-07-22\"), \n",
    "            pd.to_datetime(\"2019-06-27\"), \n",
    "            pd.to_datetime(\"2003-08-11\"), \n",
    "            pd.to_datetime(\"1983-07-21\"))\n",
    "\n",
    "\n",
    "variables = ['tmax','mslp','sm']"
   ]
  },
  {
   "cell_type": "code",
   "execution_count": null,
   "id": "dc90af62-27f5-43ac-9f9c-84c1c78c138a",
   "metadata": {
    "tags": []
   },
   "outputs": [],
   "source": [
    "importlib.reload(clint)\n",
    "drivers = pd.read_csv('./metadata/drivers.csv')\n",
    "clint.loop_map_grids(drivers, dates_ts, variables, lsm, modeldir, maskdir, plotdir)"
   ]
  },
  {
   "cell_type": "code",
   "execution_count": null,
   "id": "efc37787-d8af-4b5e-83e8-c14f04b226e8",
   "metadata": {},
   "outputs": [],
   "source": []
  }
 ],
 "metadata": {
  "kernelspec": {
   "display_name": "Python 3 (ipykernel)",
   "language": "python",
   "name": "python3"
  },
  "language_info": {
   "codemirror_mode": {
    "name": "ipython",
    "version": 3
   },
   "file_extension": ".py",
   "mimetype": "text/x-python",
   "name": "python",
   "nbconvert_exporter": "python",
   "pygments_lexer": "ipython3",
   "version": "3.8.17"
  }
 },
 "nbformat": 4,
 "nbformat_minor": 5
}
