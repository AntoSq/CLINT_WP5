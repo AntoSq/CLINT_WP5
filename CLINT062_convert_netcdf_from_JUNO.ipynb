{
 "cells": [
  {
   "cell_type": "markdown",
   "id": "cf4e4807-f8c7-402d-9b31-8b5eba2b8823",
   "metadata": {
    "tags": []
   },
   "source": [
    "# CLINT WP5 062: Auxiliary for data import into Levante\n",
    "\n",
    "Filenames of netcdfs imported from Juno need to be changed in order to be similar to the others in Levante\n",
    "Furthermore, name of the variable in the netcdf has to be changed from CDS code to CMOR code (e.g. from 'msl' to 'pls')\n",
    "\n",
    "### 2023/11/06"
   ]
  },
  {
   "cell_type": "code",
   "execution_count": 3,
   "id": "77fd67c7-6ed5-42ca-aa5e-54ddb9bd7c0c",
   "metadata": {
    "tags": []
   },
   "outputs": [],
   "source": [
    "import numpy as np\n",
    "import pandas as pd\n",
    "import xarray as xr\n",
    "import os"
   ]
  },
  {
   "cell_type": "code",
   "execution_count": 4,
   "id": "77a9fd11-d5b4-49d3-a534-eeabe3e88b92",
   "metadata": {
    "tags": []
   },
   "outputs": [],
   "source": [
    "inpath = '/work/bk1318/b382649/to_be_renamed/'\n",
    "outpath = '/work/bk1318/b382649/ERA5/'\n",
    "workmetadir = '/home/b/b382649/CLINT_WP5/metadata/'"
   ]
  },
  {
   "cell_type": "code",
   "execution_count": 5,
   "id": "e9b48ad2-4788-4f59-8e67-bd5c169fc69b",
   "metadata": {
    "tags": []
   },
   "outputs": [],
   "source": [
    "varspecs = pd.read_csv(f'{workmetadir}variables_specifications.csv')"
   ]
  },
  {
   "cell_type": "code",
   "execution_count": 6,
   "id": "fa687622-4f7f-45a0-a7af-4bf7d4e2c9ab",
   "metadata": {
    "tags": []
   },
   "outputs": [
    {
     "data": {
      "text/html": [
       "<div>\n",
       "<style scoped>\n",
       "    .dataframe tbody tr th:only-of-type {\n",
       "        vertical-align: middle;\n",
       "    }\n",
       "\n",
       "    .dataframe tbody tr th {\n",
       "        vertical-align: top;\n",
       "    }\n",
       "\n",
       "    .dataframe thead th {\n",
       "        text-align: right;\n",
       "    }\n",
       "</style>\n",
       "<table border=\"1\" class=\"dataframe\">\n",
       "  <thead>\n",
       "    <tr style=\"text-align: right;\">\n",
       "      <th></th>\n",
       "      <th>var</th>\n",
       "      <th>unit</th>\n",
       "      <th>era5_var</th>\n",
       "      <th>cmip6_var</th>\n",
       "      <th>var4path</th>\n",
       "      <th>era5_aggr</th>\n",
       "      <th>vmin</th>\n",
       "      <th>vmax</th>\n",
       "    </tr>\n",
       "  </thead>\n",
       "  <tbody>\n",
       "    <tr>\n",
       "      <th>0</th>\n",
       "      <td>tmax</td>\n",
       "      <td>°C</td>\n",
       "      <td>mx2t</td>\n",
       "      <td>tasmax</td>\n",
       "      <td>mx2t</td>\n",
       "      <td>day</td>\n",
       "      <td>-10.0</td>\n",
       "      <td>10.0</td>\n",
       "    </tr>\n",
       "    <tr>\n",
       "      <th>1</th>\n",
       "      <td>mslp</td>\n",
       "      <td>hPa</td>\n",
       "      <td>msl</td>\n",
       "      <td>psl</td>\n",
       "      <td>msl</td>\n",
       "      <td>1hr</td>\n",
       "      <td>-20.0</td>\n",
       "      <td>20.0</td>\n",
       "    </tr>\n",
       "    <tr>\n",
       "      <th>2</th>\n",
       "      <td>sm</td>\n",
       "      <td>m^3/m^3</td>\n",
       "      <td>swvl1</td>\n",
       "      <td>mrsos</td>\n",
       "      <td>sm1</td>\n",
       "      <td>NaN</td>\n",
       "      <td>-0.2</td>\n",
       "      <td>0.2</td>\n",
       "    </tr>\n",
       "  </tbody>\n",
       "</table>\n",
       "</div>"
      ],
      "text/plain": [
       "    var     unit era5_var cmip6_var var4path era5_aggr  vmin  vmax\n",
       "0  tmax       °C     mx2t    tasmax     mx2t       day -10.0  10.0\n",
       "1  mslp      hPa      msl       psl      msl       1hr -20.0  20.0\n",
       "2    sm  m^3/m^3    swvl1     mrsos      sm1       NaN  -0.2   0.2"
      ]
     },
     "execution_count": 6,
     "metadata": {},
     "output_type": "execute_result"
    }
   ],
   "source": [
    "varspecs"
   ]
  },
  {
   "cell_type": "code",
   "execution_count": 27,
   "id": "ded40594-05c0-454f-9743-ef2f50405d33",
   "metadata": {
    "tags": []
   },
   "outputs": [
    {
     "name": "stdout",
     "output_type": "stream",
     "text": [
      "cdo    chname: Processed 61663465 values from 1 variable over 365 timesteps [1.76s 118MB].\n"
     ]
    }
   ],
   "source": [
    "filelist = os.listdir(inpath)\n",
    "\n",
    "for filename in filelist:\n",
    "\n",
    "    filename = filelist[0]\n",
    "    fields = filename.split(\"_\")\n",
    "    experiment = fields[0]\n",
    "    var = fields[1]\n",
    "    tres = fields[2]\n",
    "    y = 2019\n",
    "\n",
    "    if experiment == 'era5':\n",
    "         product = 'reanalysis'\n",
    "         mmb = 1\n",
    "\n",
    "    varrow = varspecs.loc[varspecs['var'] == var]\n",
    "    cmip6_var = varrow['cmip6_var'].values[0]\n",
    "    era5_var = varrow['era5_var'].values[0]\n",
    "\n",
    "    #targetfilepath = '/work/bk1318/b382649/ERA5/'\n",
    "    targetfilename = f'{cmip6_var}_{tres}_{product}_{experiment}_r{mmb}i1p1_{y}0101-{y}1231_cropped.nc'\n",
    "\n",
    "    command = f'cdo chname,{era5_var},{cmip6_var} {inpath}{filename} {outpath}{targetfilename}'\n",
    "\n",
    "    os.system(command)\n",
    "    os.system(f'rm {inpath}{filename}')"
   ]
  },
  {
   "cell_type": "code",
   "execution_count": null,
   "id": "2947ae7b-f067-4a4a-bb17-6ae3b97921ed",
   "metadata": {},
   "outputs": [],
   "source": []
  },
  {
   "cell_type": "code",
   "execution_count": null,
   "id": "7b270edd-348f-455a-8142-00de55c18d88",
   "metadata": {},
   "outputs": [],
   "source": []
  },
  {
   "cell_type": "code",
   "execution_count": null,
   "id": "9b8b97b3-15d4-4508-b276-f997d413f7cc",
   "metadata": {},
   "outputs": [],
   "source": []
  },
  {
   "cell_type": "code",
   "execution_count": null,
   "id": "3e14c019-4188-4704-aa4d-fb9b1b5ed646",
   "metadata": {},
   "outputs": [],
   "source": []
  },
  {
   "cell_type": "code",
   "execution_count": null,
   "id": "cf4622b2-eb63-4115-908f-33b1c985d930",
   "metadata": {},
   "outputs": [],
   "source": [
    "        coord_ortho = midpoint_spherical_interpolation(drivers_addrow['cl_ext_E'].values[0], \n",
    "                                                       drivers_addrow['cl_ext_N'].values[0], \n",
    "                                                       drivers_addrow['cl_ext_W'].values[0],\n",
    "                                                       drivers_addrow['cl_ext_S'])"
   ]
  }
 ],
 "metadata": {
  "kernelspec": {
   "display_name": "Python 3 (based on the module python3/2023.01)",
   "language": "python",
   "name": "python3_2023_01"
  },
  "language_info": {
   "codemirror_mode": {
    "name": "ipython",
    "version": 3
   },
   "file_extension": ".py",
   "mimetype": "text/x-python",
   "name": "python",
   "nbconvert_exporter": "python",
   "pygments_lexer": "ipython3",
   "version": "3.10.10"
  }
 },
 "nbformat": 4,
 "nbformat_minor": 5
}
