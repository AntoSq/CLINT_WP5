{
 "cells": [
  {
   "cell_type": "code",
   "execution_count": 4,
   "id": "5ed51030-cb7e-4508-923b-4b10ffc2b74d",
   "metadata": {
    "tags": []
   },
   "outputs": [
    {
     "data": {
      "image/png": "[encoded data removed]",
      "text/html": [
       "<div style=\"vertical-align: middle;\"><strong>BrBG</strong> </div><div class=\"cmap\"><img alt=\"BrBG colormap\" title=\"BrBG\" style=\"border: 1px solid #555;\" src=\"data:image/png;base64,iVBORw0KGgoAAAANSUhEUgAAAgAAAABACAYAAABsv8+/AAAAE3RFWHRUaXRsZQBCckJHIGNvbG9ybWFwMTXIUAAAABl0RVh0RGVzY3JpcHRpb24AQnJCRyBjb2xvcm1hcLqHWMgAAAAwdEVYdEF1dGhvcgBNYXRwbG90bGliIHYzLjUuMywgaHR0cHM6Ly9tYXRwbG90bGliLm9yZ2fR6JIAAAAydEVYdFNvZnR3YXJlAE1hdHBsb3RsaWIgdjMuNS4zLCBodHRwczovL21hdHBsb3RsaWIub3JnSXd3tQAAAgpJREFUeJzt1tFO5CAAhlFo9X32YXz/N2nxYqhJmZLR2VWz+c+5QQqU0aj56tuf11ZKKUst5XJczvO11svn47j2Lz79vsn60+/rC8txbvni8/rL5/u8LuttXNfTfBnm9+sv1+t9XCbnaj83X5+cH+67+3zjWIfvr97G8mD90flxvfzl+dl6K/0X7rinLP/lvPXZfoyt9Xk7PW/j81Yu56082tfO97bzPY/3Xb/32Lfttzdtff/WzvO9jevt8tx0X3++T85N943vu7tv2LcP+7447sd8e+789o/O78P3sX/XePwcf+ie0ucfYxvmH38QT+67298mz8f9n/x8fd/x3wAACCIAACCQAACAQAIAAAIJAAAIJAAAIJAAAIBAAgAAAgkAAAgkAAAgkAAAgEACAAACCQAACCQAACCQAACAQAIAAAIJAAAIJAAAIJAAAIBAAgAAAgkAAAgkAAAgkAAAgEACAAACCQAACCQAACCQAACAQAIAAAIJAAAIJAAAIJAAAIBAAgAAAgkAAAgkAAAgkAAAgEACAAACCQAACCQAACCQAACAQAIAAAIJAAAIJAAAIJAAAIBAAgAAAgkAAAgkAAAgkAAAgEACAAACCQAACCQAACCQAACAQAIAAAIJAAAIJAAAIJAAAIBAAgAAAgkAAAgkAAAgkAAAgEACAAACCQAACCQAACCQAACAQO8Fe0769B4+2wAAAABJRU5ErkJggg==\"></div><div style=\"vertical-align: middle; max-width: 514px; display: flex; justify-content: space-between;\"><div style=\"float: left;\"><div title=\"#543005ff\" style=\"display: inline-block; width: 1em; height: 1em; margin: 0; vertical-align: middle; border: 1px solid #555; background-color: #543005ff;\"></div> under</div><div style=\"margin: 0 auto; display: inline-block;\">bad <div title=\"#00000000\" style=\"display: inline-block; width: 1em; height: 1em; margin: 0; vertical-align: middle; border: 1px solid #555; background-color: #00000000;\"></div></div><div style=\"float: right;\">over <div title=\"#003c30ff\" style=\"display: inline-block; width: 1em; height: 1em; margin: 0; vertical-align: middle; border: 1px solid #555; background-color: #003c30ff;\"></div></div>"
      ],
      "text/plain": [
       "<matplotlib.colors.LinearSegmentedColormap at 0x7fffb071bd30>"
      ]
     },
     "execution_count": 4,
     "metadata": {},
     "output_type": "execute_result"
    }
   ],
   "source": [
    "import matplotlib.pyplot as plt\n",
    "plt.cm.BrBG"
   ]
  },
  {
   "cell_type": "code",
   "execution_count": null,
   "id": "1c4d3d34-57bd-4ccc-b8b7-ff0104aaa4e5",
   "metadata": {},
   "outputs": [],
   "source": []
  }
 ],
 "metadata": {
  "kernelspec": {
   "display_name": "Python 3 (based on the module python3/2023.01)",
   "language": "python",
   "name": "python3_2023_01"
  },
  "language_info": {
   "codemirror_mode": {
    "name": "ipython",
    "version": 3
   },
   "file_extension": ".py",
   "mimetype": "text/x-python",
   "name": "python",
   "nbconvert_exporter": "python",
   "pygments_lexer": "ipython3",
   "version": "3.10.10"
  }
 },
 "nbformat": 4,
 "nbformat_minor": 5
}
