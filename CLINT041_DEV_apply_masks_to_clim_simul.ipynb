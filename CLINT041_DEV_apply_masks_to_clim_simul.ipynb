{
 "cells": [
  {
   "cell_type": "markdown",
   "id": "4d5af8d3-ca31-433c-a3b6-4773a3087637",
   "metadata": {},
   "source": [
    "# CLINT WP5: DEVELOPMENT: Application of cluster masks to diferent grids\n",
    "## Climate simulations have different resolution compared to ECMWF, this requires a further step in the application of the mask to the grid\n",
    "### 2023/10/13 - 2023/10/16\n"
   ]
  },
  {
   "cell_type": "code",
   "execution_count": 1,
   "id": "49b8648c-e46f-4836-8045-555573ece2be",
   "metadata": {
    "tags": []
   },
   "outputs": [
    {
     "data": {
      "text/plain": [
       "<module 'CLINT001_functions' from '/users_home/csp/as18623/CLINT001_functions.py'>"
      ]
     },
     "execution_count": 1,
     "metadata": {},
     "output_type": "execute_result"
    }
   ],
   "source": [
    "import numpy as np\n",
    "import pandas as pd\n",
    "import xarray as xr\n",
    "import netCDF4 as nc\n",
    "from datetime import datetime as dt\n",
    "import matplotlib.pyplot as plt\n",
    "import matplotlib as mpl\n",
    "import cartopy.crs as ccrs\n",
    "import cartopy\n",
    "import importlib\n",
    "import seaborn as sns\n",
    "#from mpl_toolkits import Basemap\n",
    "import CLINT001_functions as clint\n",
    "importlib.reload(clint)"
   ]
  },
  {
   "cell_type": "code",
   "execution_count": 2,
   "id": "4dc854f6-dcfd-45ea-97bb-0eadae5dd27f",
   "metadata": {
    "tags": []
   },
   "outputs": [],
   "source": [
    "## DIRECTORIES\n",
    "machine = 'juno'\n",
    "kind = 'hist' #ERA5 or hist\n",
    "\n",
    "\n",
    "if machine == 'laptop':\n",
    "    modeldir = '~/Documents/CMCC-GoogleDrive/ERA5/'\n",
    "    metadatadir = '~/Library/Mobile\\ Documents/com~apple~CloudDocs/CLINT/metadata/'\n",
    "    maskdir = '~/Documents/CMCC-GoogleDrive/Mask_Clusters/Test3_Clusters/'\n",
    "    plotdir = '/Users/squintu/Documents/CMCC-GoogleDrive/plots_for_reports/'\n",
    "    \n",
    "if machine == 'workstation':\n",
    "    modeldir = '~/Documents/CMCC-GoogleDrive/ERA5/'\n",
    "    metadatadir = '~/Library/Mobile\\ Documents/com~apple~CloudDocs/CLINT/metadata/'\n",
    "    maskdir = '~/Documents/CMCC-GoogleDrive/Mask_Clusters/Test3_Clusters/'\n",
    "    plotdir = '/Users/antonellosquintu/Documents/CMCC-GoogleDrive/plots_for_reports/'\n",
    "\n",
    "if machine == 'juno':\n",
    "    modeldir = f'/work/csp/as18623/CLINT_{kind}/'\n",
    "    obsdir = '/data/csp/as18623/CLINT_obs/'\n",
    "    workmetadir = '/work/csp/as18623/CLINT_metadata/'\n",
    "    metadatadir = '/data/csp/as18623/CLINT_metadata/'\n",
    "    maskdir = '/data/csp/as18623/CLINT_metadata/Masks/Test3_Clusters/'\n",
    "    plotdir = '/work/csp/as18623/CLINT_WP5/maps_and_plots/'"
   ]
  },
  {
   "cell_type": "code",
   "execution_count": 3,
   "id": "e8472e8c-92bb-4661-97b3-7e59aed258c8",
   "metadata": {
    "tags": []
   },
   "outputs": [],
   "source": [
    "modelspecs = pd.DataFrame({'kind':['ERA5','hist'],\n",
    "                           'modelnames':['era5','CMCC-CM2-SR5'],#name of models\n",
    "                           'members_list':[np.nan,np.array(range(3,12))]})#list of member numbers)\n",
    "\n",
    "modelspecs = pd.DataFrame({'kind':['ERA5','hist'],\n",
    "                           'modelnames':['era5','CMCC-CM2-SR5'],#name of models\n",
    "                           'members_list':[np.nan,[3]]})#list of member numbers)\n"
   ]
  },
  {
   "cell_type": "code",
   "execution_count": 4,
   "id": "241af50b-75f4-4771-9ccf-62c9c6199cec",
   "metadata": {
    "tags": []
   },
   "outputs": [],
   "source": [
    "## Open land-sea mask and round to integer\n",
    "## The mask has values between 0 and 1 according to the proportion of the grid-point\n",
    "##  which is covered by land\n",
    "## Any gridpoint with more than 0.5 is rounded to 1 and considered land\n",
    "\n",
    "lsm = xr.open_dataset(f'{obsdir}/era5_lsm.nc').round()"
   ]
  },
  {
   "cell_type": "code",
   "execution_count": 5,
   "id": "5aaec98a-37f7-43b7-9ce7-1479643238be",
   "metadata": {
    "tags": []
   },
   "outputs": [],
   "source": [
    "variables = ['tmax']"
   ]
  },
  {
   "cell_type": "code",
   "execution_count": 6,
   "id": "31a9cbdc-47e7-4683-8d73-2db9137d1dc3",
   "metadata": {
    "tags": []
   },
   "outputs": [],
   "source": [
    "## indicate the date of the events and the variables to be included\n",
    "\n",
    "dates_ts = (pd.to_datetime(\"2022-07-22\"), \n",
    "            pd.to_datetime(\"2019-06-27\"), \n",
    "            pd.to_datetime(\"2003-08-11\"), \n",
    "            pd.to_datetime(\"1983-07-21\"))\n",
    "\n",
    "## don't run too many dates at once otherwise the notebook won't open next time\n",
    "\n",
    "dates_ts = [pd.to_datetime(\"2019-06-27\")]\n",
    "\n",
    "variables = ['tmax','mslp','sm']"
   ]
  },
  {
   "cell_type": "code",
   "execution_count": 7,
   "id": "14923ab7-ce48-44fa-b592-0c1643581986",
   "metadata": {
    "tags": []
   },
   "outputs": [],
   "source": [
    "drivers = pd.read_csv(f'{workmetadir}drivers.csv')\n",
    "modelspecs = modelspecs[modelspecs.kind == kind]"
   ]
  },
  {
   "cell_type": "markdown",
   "id": "51d35ef9-0f11-42b2-bd01-98388043eb5c",
   "metadata": {},
   "source": [
    "### Portions from clint.loop_map_grids"
   ]
  },
  {
   "cell_type": "code",
   "execution_count": 8,
   "id": "bc2b4afe-1a9f-4932-ba50-3deed47359bf",
   "metadata": {
    "tags": []
   },
   "outputs": [],
   "source": [
    "date_ts = dates_ts[0]\n",
    "y = date_ts.year\n",
    "#print(y)\n",
    "kind = modelspecs.iloc[0]['kind']\n",
    "datasetnames = sum([[f'{modelrow[\"modelnames\"]}-{kind}-r{mmb}' for mmb in modelrow[\"members_list\"]] for i, modelrow in modelspecs.iterrows()],[])"
   ]
  },
  {
   "cell_type": "code",
   "execution_count": 9,
   "id": "b1fcc8f8-4e24-4bf1-ba6b-6a2e07ac8fa5",
   "metadata": {
    "tags": []
   },
   "outputs": [],
   "source": [
    "var = 'tmax'\n",
    "drivers_sub = drivers.loc[drivers['var'] == var]\n",
    "datasetname = datasetnames[0]\n",
    "anom_xr = xr.open_dataset(f'{modeldir}/{datasetname}_{var}_dailyanom_{y}_cropped.nc')"
   ]
  },
  {
   "cell_type": "code",
   "execution_count": 10,
   "id": "2ba0b6cf-8101-4fff-9458-c529f477b866",
   "metadata": {
    "tags": []
   },
   "outputs": [],
   "source": [
    "drivers_row = drivers_sub.iloc[0]\n",
    "mask_df = pd.read_csv(f\"{maskdir}{drivers_row['clmask_test3']}\",index_col=[0])\n",
    "cl_nr = drivers_row['cl_nr']\n",
    "submask = mask_df[mask_df.cluster == cl_nr]"
   ]
  },
  {
   "cell_type": "markdown",
   "id": "6d83ae6e-eaae-425e-8c00-9be502478b3e",
   "metadata": {},
   "source": [
    "### Portions from clint.mask_xr_w_df"
   ]
  },
  {
   "cell_type": "code",
   "execution_count": 11,
   "id": "ce203a77-3aa2-44b1-9746-3a59c1db3e63",
   "metadata": {
    "tags": []
   },
   "outputs": [],
   "source": [
    "xrdf = anom_xr"
   ]
  },
  {
   "cell_type": "code",
   "execution_count": 12,
   "id": "f0fd3409-af08-439d-9954-33676cadfc5e",
   "metadata": {
    "tags": []
   },
   "outputs": [],
   "source": [
    "## Generate coordinates of all gridpoints around the 2x2\n",
    "exp_list = [clint.expand_res_grid(row) for index,row in submask.iterrows()] \n",
    "## Concatenate dataframes with all the new gridpoints\n",
    "exp_df = pd.concat(exp_list,ignore_index=True).reset_index(drop=True)\n",
    "exp_df['cluster'] = np.nanmean(submask['cluster']) #add the missing column so that it can be merged to submask\n",
    "## Append the new gridpoints to the original 2x2 mask\n",
    "submask_exp = pd.concat([submask,exp_df],ignore_index=True).drop_duplicates().reset_index(drop=True)\n",
    "\n",
    "mask = submask_exp.assign(flag=1).set_index([\"nodes_lon\", \"nodes_lat\"]).flag.to_xarray().fillna(0).rename({\"nodes_lon\": \"longitude\", \"nodes_lat\": \"latitude\"})\n",
    "\n",
    "if (kind == 'hist'):\n",
    "    lonfield = 'lon'\n",
    "    latfield = 'lat'\n",
    "else:\n",
    "    lonfield = 'longitude'\n",
    "    latfield = 'latitude'\n"
   ]
  },
  {
   "cell_type": "code",
   "execution_count": 13,
   "id": "f0e0b428-ff00-4b0e-9843-18db10285178",
   "metadata": {
    "tags": []
   },
   "outputs": [],
   "source": [
    "coarse = mask.interp(longitude=xrdf[lonfield], \n",
    "                     latitude=xrdf[latfield], \n",
    "                     method=\"nearest\")\n",
    "coarse = coarse.fillna(0)"
   ]
  },
  {
   "cell_type": "code",
   "execution_count": 14,
   "id": "6661abcf-e95c-4fb5-bea5-6d58a6f36d48",
   "metadata": {
    "tags": []
   },
   "outputs": [],
   "source": [
    "# coarse1 = coarse.reindex(longitude=xrdf[lonfield], \n",
    "#                     latitude=xrdf[latfield],\n",
    "#                     method=\"nearest\", tolerance=1e-9, fill_value=0)"
   ]
  },
  {
   "cell_type": "code",
   "execution_count": 15,
   "id": "4116df1a-fb92-41c2-8307-265d6e65bc1c",
   "metadata": {
    "tags": []
   },
   "outputs": [
    {
     "data": {
      "text/plain": [
       "<matplotlib.collections.QuadMesh at 0x14fdb8d7ca90>"
      ]
     },
     "execution_count": 15,
     "metadata": {},
     "output_type": "execute_result"
    },
    {
     "data": {
      "image/png": "[encoded data removed]",
      "text/plain": [
       "<Figure size 640x480 with 2 Axes>"
      ]
     },
     "metadata": {},
     "output_type": "display_data"
    }
   ],
   "source": [
    "coarse.plot()"
   ]
  },
  {
   "cell_type": "code",
   "execution_count": 16,
   "id": "a2367799-873e-4156-b3cc-e19c5a86a102",
   "metadata": {
    "tags": []
   },
   "outputs": [],
   "source": [
    "sub_xrdf = xrdf.where(coarse)"
   ]
  },
  {
   "cell_type": "code",
   "execution_count": 17,
   "id": "1525f2f5-98e9-44b2-9c51-2d25a19fa7e6",
   "metadata": {
    "tags": []
   },
   "outputs": [
    {
     "data": {
      "text/plain": [
       "<matplotlib.collections.QuadMesh at 0x14fdb8c60210>"
      ]
     },
     "execution_count": 17,
     "metadata": {},
     "output_type": "execute_result"
    },
    {
     "data": {
      "image/png": "[encoded data removed]",
      "text/plain": [
       "<Figure size 640x480 with 2 Axes>"
      ]
     },
     "metadata": {},
     "output_type": "display_data"
    }
   ],
   "source": [
    "sub_xrdf.isel(time=1)['tasmax'].plot()"
   ]
  },
  {
   "cell_type": "code",
   "execution_count": 34,
   "id": "9b83059c-f9dd-4453-983b-5041f635009e",
   "metadata": {
    "collapsed": true,
    "jupyter": {
     "outputs_hidden": true
    },
    "tags": []
   },
   "outputs": [
    {
     "data": {
      "text/html": [
       "<div><svg style=\"position: absolute; width: 0; height: 0; overflow: hidden\">\n",
       "<defs>\n",
       "<symbol id=\"icon-database\" viewBox=\"0 0 32 32\">\n",
       "<path d=\"M16 0c-8.837 0-16 2.239-16 5v4c0 2.761 7.163 5 16 5s16-2.239 16-5v-4c0-2.761-7.163-5-16-5z\"></path>\n",
       "<path d=\"M16 17c-8.837 0-16-2.239-16-5v6c0 2.761 7.163 5 16 5s16-2.239 16-5v-6c0 2.761-7.163 5-16 5z\"></path>\n",
       "<path d=\"M16 26c-8.837 0-16-2.239-16-5v6c0 2.761 7.163 5 16 5s16-2.239 16-5v-6c0 2.761-7.163 5-16 5z\"></path>\n",
       "</symbol>\n",
       "<symbol id=\"icon-file-text2\" viewBox=\"0 0 32 32\">\n",
       "<path d=\"M28.681 7.159c-0.694-0.947-1.662-2.053-2.724-3.116s-2.169-2.030-3.116-2.724c-1.612-1.182-2.393-1.319-2.841-1.319h-15.5c-1.378 0-2.5 1.121-2.5 2.5v27c0 1.378 1.122 2.5 2.5 2.5h23c1.378 0 2.5-1.122 2.5-2.5v-19.5c0-0.448-0.137-1.23-1.319-2.841zM24.543 5.457c0.959 0.959 1.712 1.825 2.268 2.543h-4.811v-4.811c0.718 0.556 1.584 1.309 2.543 2.268zM28 29.5c0 0.271-0.229 0.5-0.5 0.5h-23c-0.271 0-0.5-0.229-0.5-0.5v-27c0-0.271 0.229-0.5 0.5-0.5 0 0 15.499-0 15.5 0v7c0 0.552 0.448 1 1 1h7v19.5z\"></path>\n",
       "<path d=\"M23 26h-14c-0.552 0-1-0.448-1-1s0.448-1 1-1h14c0.552 0 1 0.448 1 1s-0.448 1-1 1z\"></path>\n",
       "<path d=\"M23 22h-14c-0.552 0-1-0.448-1-1s0.448-1 1-1h14c0.552 0 1 0.448 1 1s-0.448 1-1 1z\"></path>\n",
       "<path d=\"M23 18h-14c-0.552 0-1-0.448-1-1s0.448-1 1-1h14c0.552 0 1 0.448 1 1s-0.448 1-1 1z\"></path>\n",
       "</symbol>\n",
       "</defs>\n",
       "</svg>\n",
       "<style>/* CSS stylesheet for displaying xarray objects in jupyterlab.\n",
       " *\n",
       " */\n",
       "\n",
       ":root {\n",
       "  --xr-font-color0: var(--jp-content-font-color0, rgba(0, 0, 0, 1));\n",
       "  --xr-font-color2: var(--jp-content-font-color2, rgba(0, 0, 0, 0.54));\n",
       "  --xr-font-color3: var(--jp-content-font-color3, rgba(0, 0, 0, 0.38));\n",
       "  --xr-border-color: var(--jp-border-color2, #e0e0e0);\n",
       "  --xr-disabled-color: var(--jp-layout-color3, #bdbdbd);\n",
       "  --xr-background-color: var(--jp-layout-color0, white);\n",
       "  --xr-background-color-row-even: var(--jp-layout-color1, white);\n",
       "  --xr-background-color-row-odd: var(--jp-layout-color2, #eeeeee);\n",
       "}\n",
       "\n",
       "html[theme=dark],\n",
       "body[data-theme=dark],\n",
       "body.vscode-dark {\n",
       "  --xr-font-color0: rgba(255, 255, 255, 1);\n",
       "  --xr-font-color2: rgba(255, 255, 255, 0.54);\n",
       "  --xr-font-color3: rgba(255, 255, 255, 0.38);\n",
       "  --xr-border-color: #1F1F1F;\n",
       "  --xr-disabled-color: #515151;\n",
       "  --xr-background-color: #111111;\n",
       "  --xr-background-color-row-even: #111111;\n",
       "  --xr-background-color-row-odd: #313131;\n",
       "}\n",
       "\n",
       ".xr-wrap {\n",
       "  display: block !important;\n",
       "  min-width: 300px;\n",
       "  max-width: 700px;\n",
       "}\n",
       "\n",
       ".xr-text-repr-fallback {\n",
       "  /* fallback to plain text repr when CSS is not injected (untrusted notebook) */\n",
       "  display: none;\n",
       "}\n",
       "\n",
       ".xr-header {\n",
       "  padding-top: 6px;\n",
       "  padding-bottom: 6px;\n",
       "  margin-bottom: 4px;\n",
       "  border-bottom: solid 1px var(--xr-border-color);\n",
       "}\n",
       "\n",
       ".xr-header > div,\n",
       ".xr-header > ul {\n",
       "  display: inline;\n",
       "  margin-top: 0;\n",
       "  margin-bottom: 0;\n",
       "}\n",
       "\n",
       ".xr-obj-type,\n",
       ".xr-array-name {\n",
       "  margin-left: 2px;\n",
       "  margin-right: 10px;\n",
       "}\n",
       "\n",
       ".xr-obj-type {\n",
       "  color: var(--xr-font-color2);\n",
       "}\n",
       "\n",
       ".xr-sections {\n",
       "  padding-left: 0 !important;\n",
       "  display: grid;\n",
       "  grid-template-columns: 150px auto auto 1fr 20px 20px;\n",
       "}\n",
       "\n",
       ".xr-section-item {\n",
       "  display: contents;\n",
       "}\n",
       "\n",
       ".xr-section-item input {\n",
       "  display: none;\n",
       "}\n",
       "\n",
       ".xr-section-item input + label {\n",
       "  color: var(--xr-disabled-color);\n",
       "}\n",
       "\n",
       ".xr-section-item input:enabled + label {\n",
       "  cursor: pointer;\n",
       "  color: var(--xr-font-color2);\n",
       "}\n",
       "\n",
       ".xr-section-item input:enabled + label:hover {\n",
       "  color: var(--xr-font-color0);\n",
       "}\n",
       "\n",
       ".xr-section-summary {\n",
       "  grid-column: 1;\n",
       "  color: var(--xr-font-color2);\n",
       "  font-weight: 500;\n",
       "}\n",
       "\n",
       ".xr-section-summary > span {\n",
       "  display: inline-block;\n",
       "  padding-left: 0.5em;\n",
       "}\n",
       "\n",
       ".xr-section-summary-in:disabled + label {\n",
       "  color: var(--xr-font-color2);\n",
       "}\n",
       "\n",
       ".xr-section-summary-in + label:before {\n",
       "  display: inline-block;\n",
       "  content: '►';\n",
       "  font-size: 11px;\n",
       "  width: 15px;\n",
       "  text-align: center;\n",
       "}\n",
       "\n",
       ".xr-section-summary-in:disabled + label:before {\n",
       "  color: var(--xr-disabled-color);\n",
       "}\n",
       "\n",
       ".xr-section-summary-in:checked + label:before {\n",
       "  content: '▼';\n",
       "}\n",
       "\n",
       ".xr-section-summary-in:checked + label > span {\n",
       "  display: none;\n",
       "}\n",
       "\n",
       ".xr-section-summary,\n",
       ".xr-section-inline-details {\n",
       "  padding-top: 4px;\n",
       "  padding-bottom: 4px;\n",
       "}\n",
       "\n",
       ".xr-section-inline-details {\n",
       "  grid-column: 2 / -1;\n",
       "}\n",
       "\n",
       ".xr-section-details {\n",
       "  display: none;\n",
       "  grid-column: 1 / -1;\n",
       "  margin-bottom: 5px;\n",
       "}\n",
       "\n",
       ".xr-section-summary-in:checked ~ .xr-section-details {\n",
       "  display: contents;\n",
       "}\n",
       "\n",
       ".xr-array-wrap {\n",
       "  grid-column: 1 / -1;\n",
       "  display: grid;\n",
       "  grid-template-columns: 20px auto;\n",
       "}\n",
       "\n",
       ".xr-array-wrap > label {\n",
       "  grid-column: 1;\n",
       "  vertical-align: top;\n",
       "}\n",
       "\n",
       ".xr-preview {\n",
       "  color: var(--xr-font-color3);\n",
       "}\n",
       "\n",
       ".xr-array-preview,\n",
       ".xr-array-data {\n",
       "  padding: 0 5px !important;\n",
       "  grid-column: 2;\n",
       "}\n",
       "\n",
       ".xr-array-data,\n",
       ".xr-array-in:checked ~ .xr-array-preview {\n",
       "  display: none;\n",
       "}\n",
       "\n",
       ".xr-array-in:checked ~ .xr-array-data,\n",
       ".xr-array-preview {\n",
       "  display: inline-block;\n",
       "}\n",
       "\n",
       ".xr-dim-list {\n",
       "  display: inline-block !important;\n",
       "  list-style: none;\n",
       "  padding: 0 !important;\n",
       "  margin: 0;\n",
       "}\n",
       "\n",
       ".xr-dim-list li {\n",
       "  display: inline-block;\n",
       "  padding: 0;\n",
       "  margin: 0;\n",
       "}\n",
       "\n",
       ".xr-dim-list:before {\n",
       "  content: '(';\n",
       "}\n",
       "\n",
       ".xr-dim-list:after {\n",
       "  content: ')';\n",
       "}\n",
       "\n",
       ".xr-dim-list li:not(:last-child):after {\n",
       "  content: ',';\n",
       "  padding-right: 5px;\n",
       "}\n",
       "\n",
       ".xr-has-index {\n",
       "  font-weight: bold;\n",
       "}\n",
       "\n",
       ".xr-var-list,\n",
       ".xr-var-item {\n",
       "  display: contents;\n",
       "}\n",
       "\n",
       ".xr-var-item > div,\n",
       ".xr-var-item label,\n",
       ".xr-var-item > .xr-var-name span {\n",
       "  background-color: var(--xr-background-color-row-even);\n",
       "  margin-bottom: 0;\n",
       "}\n",
       "\n",
       ".xr-var-item > .xr-var-name:hover span {\n",
       "  padding-right: 5px;\n",
       "}\n",
       "\n",
       ".xr-var-list > li:nth-child(odd) > div,\n",
       ".xr-var-list > li:nth-child(odd) > label,\n",
       ".xr-var-list > li:nth-child(odd) > .xr-var-name span {\n",
       "  background-color: var(--xr-background-color-row-odd);\n",
       "}\n",
       "\n",
       ".xr-var-name {\n",
       "  grid-column: 1;\n",
       "}\n",
       "\n",
       ".xr-var-dims {\n",
       "  grid-column: 2;\n",
       "}\n",
       "\n",
       ".xr-var-dtype {\n",
       "  grid-column: 3;\n",
       "  text-align: right;\n",
       "  color: var(--xr-font-color2);\n",
       "}\n",
       "\n",
       ".xr-var-preview {\n",
       "  grid-column: 4;\n",
       "}\n",
       "\n",
       ".xr-index-preview {\n",
       "  grid-column: 2 / 5;\n",
       "  color: var(--xr-font-color2);\n",
       "}\n",
       "\n",
       ".xr-var-name,\n",
       ".xr-var-dims,\n",
       ".xr-var-dtype,\n",
       ".xr-preview,\n",
       ".xr-attrs dt {\n",
       "  white-space: nowrap;\n",
       "  overflow: hidden;\n",
       "  text-overflow: ellipsis;\n",
       "  padding-right: 10px;\n",
       "}\n",
       "\n",
       ".xr-var-name:hover,\n",
       ".xr-var-dims:hover,\n",
       ".xr-var-dtype:hover,\n",
       ".xr-attrs dt:hover {\n",
       "  overflow: visible;\n",
       "  width: auto;\n",
       "  z-index: 1;\n",
       "}\n",
       "\n",
       ".xr-var-attrs,\n",
       ".xr-var-data,\n",
       ".xr-index-data {\n",
       "  display: none;\n",
       "  background-color: var(--xr-background-color) !important;\n",
       "  padding-bottom: 5px !important;\n",
       "}\n",
       "\n",
       ".xr-var-attrs-in:checked ~ .xr-var-attrs,\n",
       ".xr-var-data-in:checked ~ .xr-var-data,\n",
       ".xr-index-data-in:checked ~ .xr-index-data {\n",
       "  display: block;\n",
       "}\n",
       "\n",
       ".xr-var-data > table {\n",
       "  float: right;\n",
       "}\n",
       "\n",
       ".xr-var-name span,\n",
       ".xr-var-data,\n",
       ".xr-index-name div,\n",
       ".xr-index-data,\n",
       ".xr-attrs {\n",
       "  padding-left: 25px !important;\n",
       "}\n",
       "\n",
       ".xr-attrs,\n",
       ".xr-var-attrs,\n",
       ".xr-var-data,\n",
       ".xr-index-data {\n",
       "  grid-column: 1 / -1;\n",
       "}\n",
       "\n",
       "dl.xr-attrs {\n",
       "  padding: 0;\n",
       "  margin: 0;\n",
       "  display: grid;\n",
       "  grid-template-columns: 125px auto;\n",
       "}\n",
       "\n",
       ".xr-attrs dt,\n",
       ".xr-attrs dd {\n",
       "  padding: 0;\n",
       "  margin: 0;\n",
       "  float: left;\n",
       "  padding-right: 10px;\n",
       "  width: auto;\n",
       "}\n",
       "\n",
       ".xr-attrs dt {\n",
       "  font-weight: normal;\n",
       "  grid-column: 1;\n",
       "}\n",
       "\n",
       ".xr-attrs dt:hover span {\n",
       "  display: inline-block;\n",
       "  background: var(--xr-background-color);\n",
       "  padding-right: 10px;\n",
       "}\n",
       "\n",
       ".xr-attrs dd {\n",
       "  grid-column: 2;\n",
       "  white-space: pre-wrap;\n",
       "  word-break: break-all;\n",
       "}\n",
       "\n",
       ".xr-icon-database,\n",
       ".xr-icon-file-text2,\n",
       ".xr-no-icon {\n",
       "  display: inline-block;\n",
       "  vertical-align: middle;\n",
       "  width: 1em;\n",
       "  height: 1.5em !important;\n",
       "  stroke-width: 0;\n",
       "  stroke: currentColor;\n",
       "  fill: currentColor;\n",
       "}\n",
       "</style><pre class='xr-text-repr-fallback'>&lt;xarray.DataArray &#x27;lon&#x27; (lon: 141)&gt;\n",
       "array([-130.  , -128.75, -127.5 , -126.25, -125.  , -123.75, -122.5 , -121.25,\n",
       "       -120.  , -118.75, -117.5 , -116.25, -115.  , -113.75, -112.5 , -111.25,\n",
       "       -110.  , -108.75, -107.5 , -106.25, -105.  , -103.75, -102.5 , -101.25,\n",
       "       -100.  ,  -98.75,  -97.5 ,  -96.25,  -95.  ,  -93.75,  -92.5 ,  -91.25,\n",
       "        -90.  ,  -88.75,  -87.5 ,  -86.25,  -85.  ,  -83.75,  -82.5 ,  -81.25,\n",
       "        -80.  ,  -78.75,  -77.5 ,  -76.25,  -75.  ,  -73.75,  -72.5 ,  -71.25,\n",
       "        -70.  ,  -68.75,  -67.5 ,  -66.25,  -65.  ,  -63.75,  -62.5 ,  -61.25,\n",
       "        -60.  ,  -58.75,  -57.5 ,  -56.25,  -55.  ,  -53.75,  -52.5 ,  -51.25,\n",
       "        -50.  ,  -48.75,  -47.5 ,  -46.25,  -45.  ,  -43.75,  -42.5 ,  -41.25,\n",
       "        -40.  ,  -38.75,  -37.5 ,  -36.25,  -35.  ,  -33.75,  -32.5 ,  -31.25,\n",
       "        -30.  ,  -28.75,  -27.5 ,  -26.25,  -25.  ,  -23.75,  -22.5 ,  -21.25,\n",
       "        -20.  ,  -18.75,  -17.5 ,  -16.25,  -15.  ,  -13.75,  -12.5 ,  -11.25,\n",
       "        -10.  ,   -8.75,   -7.5 ,   -6.25,   -5.  ,   -3.75,   -2.5 ,   -1.25,\n",
       "          0.  ,    1.25,    2.5 ,    3.75,    5.  ,    6.25,    7.5 ,    8.75,\n",
       "         10.  ,   11.25,   12.5 ,   13.75,   15.  ,   16.25,   17.5 ,   18.75,\n",
       "         20.  ,   21.25,   22.5 ,   23.75,   25.  ,   26.25,   27.5 ,   28.75,\n",
       "         30.  ,   31.25,   32.5 ,   33.75,   35.  ,   36.25,   37.5 ,   38.75,\n",
       "         40.  ,   41.25,   42.5 ,   43.75,   45.  ])\n",
       "Coordinates:\n",
       "  * lon      (lon) float64 -130.0 -128.8 -127.5 -126.2 ... 41.25 42.5 43.75 45.0\n",
       "    height   float64 ...\n",
       "Attributes:\n",
       "    standard_name:  longitude\n",
       "    long_name:      Longitude\n",
       "    units:          degrees_east\n",
       "    axis:           X\n",
       "    bounds:         lon_bnds</pre><div class='xr-wrap' style='display:none'><div class='xr-header'><div class='xr-obj-type'>xarray.DataArray</div><div class='xr-array-name'>'lon'</div><ul class='xr-dim-list'><li><span class='xr-has-index'>lon</span>: 141</li></ul></div><ul class='xr-sections'><li class='xr-section-item'><div class='xr-array-wrap'><input id='section-063a08e1-9836-4f1d-b904-c3472c6f8c16' class='xr-array-in' type='checkbox' checked><label for='section-063a08e1-9836-4f1d-b904-c3472c6f8c16' title='Show/hide data repr'><svg class='icon xr-icon-database'><use xlink:href='#icon-database'></use></svg></label><div class='xr-array-preview xr-preview'><span>-130.0 -128.8 -127.5 -126.2 -125.0 ... 40.0 41.25 42.5 43.75 45.0</span></div><div class='xr-array-data'><pre>array([-130.  , -128.75, -127.5 , -126.25, -125.  , -123.75, -122.5 , -121.25,\n",
       "       -120.  , -118.75, -117.5 , -116.25, -115.  , -113.75, -112.5 , -111.25,\n",
       "       -110.  , -108.75, -107.5 , -106.25, -105.  , -103.75, -102.5 , -101.25,\n",
       "       -100.  ,  -98.75,  -97.5 ,  -96.25,  -95.  ,  -93.75,  -92.5 ,  -91.25,\n",
       "        -90.  ,  -88.75,  -87.5 ,  -86.25,  -85.  ,  -83.75,  -82.5 ,  -81.25,\n",
       "        -80.  ,  -78.75,  -77.5 ,  -76.25,  -75.  ,  -73.75,  -72.5 ,  -71.25,\n",
       "        -70.  ,  -68.75,  -67.5 ,  -66.25,  -65.  ,  -63.75,  -62.5 ,  -61.25,\n",
       "        -60.  ,  -58.75,  -57.5 ,  -56.25,  -55.  ,  -53.75,  -52.5 ,  -51.25,\n",
       "        -50.  ,  -48.75,  -47.5 ,  -46.25,  -45.  ,  -43.75,  -42.5 ,  -41.25,\n",
       "        -40.  ,  -38.75,  -37.5 ,  -36.25,  -35.  ,  -33.75,  -32.5 ,  -31.25,\n",
       "        -30.  ,  -28.75,  -27.5 ,  -26.25,  -25.  ,  -23.75,  -22.5 ,  -21.25,\n",
       "        -20.  ,  -18.75,  -17.5 ,  -16.25,  -15.  ,  -13.75,  -12.5 ,  -11.25,\n",
       "        -10.  ,   -8.75,   -7.5 ,   -6.25,   -5.  ,   -3.75,   -2.5 ,   -1.25,\n",
       "          0.  ,    1.25,    2.5 ,    3.75,    5.  ,    6.25,    7.5 ,    8.75,\n",
       "         10.  ,   11.25,   12.5 ,   13.75,   15.  ,   16.25,   17.5 ,   18.75,\n",
       "         20.  ,   21.25,   22.5 ,   23.75,   25.  ,   26.25,   27.5 ,   28.75,\n",
       "         30.  ,   31.25,   32.5 ,   33.75,   35.  ,   36.25,   37.5 ,   38.75,\n",
       "         40.  ,   41.25,   42.5 ,   43.75,   45.  ])</pre></div></div></li><li class='xr-section-item'><input id='section-e5c9f158-7692-4a69-8cb8-653ccef28555' class='xr-section-summary-in' type='checkbox'  checked><label for='section-e5c9f158-7692-4a69-8cb8-653ccef28555' class='xr-section-summary' >Coordinates: <span>(2)</span></label><div class='xr-section-inline-details'></div><div class='xr-section-details'><ul class='xr-var-list'><li class='xr-var-item'><div class='xr-var-name'><span class='xr-has-index'>lon</span></div><div class='xr-var-dims'>(lon)</div><div class='xr-var-dtype'>float64</div><div class='xr-var-preview xr-preview'>-130.0 -128.8 -127.5 ... 43.75 45.0</div><input id='attrs-304d95e7-b0e1-4bd4-a76e-e02b39d0bf13' class='xr-var-attrs-in' type='checkbox' ><label for='attrs-304d95e7-b0e1-4bd4-a76e-e02b39d0bf13' title='Show/Hide attributes'><svg class='icon xr-icon-file-text2'><use xlink:href='#icon-file-text2'></use></svg></label><input id='data-f9283d09-d2e8-4f85-9bd2-0136b9af24ff' class='xr-var-data-in' type='checkbox'><label for='data-f9283d09-d2e8-4f85-9bd2-0136b9af24ff' title='Show/Hide data repr'><svg class='icon xr-icon-database'><use xlink:href='#icon-database'></use></svg></label><div class='xr-var-attrs'><dl class='xr-attrs'><dt><span>standard_name :</span></dt><dd>longitude</dd><dt><span>long_name :</span></dt><dd>Longitude</dd><dt><span>units :</span></dt><dd>degrees_east</dd><dt><span>axis :</span></dt><dd>X</dd><dt><span>bounds :</span></dt><dd>lon_bnds</dd></dl></div><div class='xr-var-data'><pre>array([-130.  , -128.75, -127.5 , -126.25, -125.  , -123.75, -122.5 , -121.25,\n",
       "       -120.  , -118.75, -117.5 , -116.25, -115.  , -113.75, -112.5 , -111.25,\n",
       "       -110.  , -108.75, -107.5 , -106.25, -105.  , -103.75, -102.5 , -101.25,\n",
       "       -100.  ,  -98.75,  -97.5 ,  -96.25,  -95.  ,  -93.75,  -92.5 ,  -91.25,\n",
       "        -90.  ,  -88.75,  -87.5 ,  -86.25,  -85.  ,  -83.75,  -82.5 ,  -81.25,\n",
       "        -80.  ,  -78.75,  -77.5 ,  -76.25,  -75.  ,  -73.75,  -72.5 ,  -71.25,\n",
       "        -70.  ,  -68.75,  -67.5 ,  -66.25,  -65.  ,  -63.75,  -62.5 ,  -61.25,\n",
       "        -60.  ,  -58.75,  -57.5 ,  -56.25,  -55.  ,  -53.75,  -52.5 ,  -51.25,\n",
       "        -50.  ,  -48.75,  -47.5 ,  -46.25,  -45.  ,  -43.75,  -42.5 ,  -41.25,\n",
       "        -40.  ,  -38.75,  -37.5 ,  -36.25,  -35.  ,  -33.75,  -32.5 ,  -31.25,\n",
       "        -30.  ,  -28.75,  -27.5 ,  -26.25,  -25.  ,  -23.75,  -22.5 ,  -21.25,\n",
       "        -20.  ,  -18.75,  -17.5 ,  -16.25,  -15.  ,  -13.75,  -12.5 ,  -11.25,\n",
       "        -10.  ,   -8.75,   -7.5 ,   -6.25,   -5.  ,   -3.75,   -2.5 ,   -1.25,\n",
       "          0.  ,    1.25,    2.5 ,    3.75,    5.  ,    6.25,    7.5 ,    8.75,\n",
       "         10.  ,   11.25,   12.5 ,   13.75,   15.  ,   16.25,   17.5 ,   18.75,\n",
       "         20.  ,   21.25,   22.5 ,   23.75,   25.  ,   26.25,   27.5 ,   28.75,\n",
       "         30.  ,   31.25,   32.5 ,   33.75,   35.  ,   36.25,   37.5 ,   38.75,\n",
       "         40.  ,   41.25,   42.5 ,   43.75,   45.  ])</pre></div></li><li class='xr-var-item'><div class='xr-var-name'><span>height</span></div><div class='xr-var-dims'>()</div><div class='xr-var-dtype'>float64</div><div class='xr-var-preview xr-preview'>...</div><input id='attrs-b2d39b5a-4249-48b7-88ca-38888cfb11b4' class='xr-var-attrs-in' type='checkbox' ><label for='attrs-b2d39b5a-4249-48b7-88ca-38888cfb11b4' title='Show/Hide attributes'><svg class='icon xr-icon-file-text2'><use xlink:href='#icon-file-text2'></use></svg></label><input id='data-77c7863a-0b99-4b33-93c6-2a8d5eb0a63d' class='xr-var-data-in' type='checkbox'><label for='data-77c7863a-0b99-4b33-93c6-2a8d5eb0a63d' title='Show/Hide data repr'><svg class='icon xr-icon-database'><use xlink:href='#icon-database'></use></svg></label><div class='xr-var-attrs'><dl class='xr-attrs'><dt><span>standard_name :</span></dt><dd>height</dd><dt><span>long_name :</span></dt><dd>height</dd><dt><span>units :</span></dt><dd>m</dd><dt><span>positive :</span></dt><dd>up</dd><dt><span>axis :</span></dt><dd>Z</dd></dl></div><div class='xr-var-data'><pre>[1 values with dtype=float64]</pre></div></li></ul></div></li><li class='xr-section-item'><input id='section-b776cd56-1ca1-474a-916e-bdebc2539da4' class='xr-section-summary-in' type='checkbox'  ><label for='section-b776cd56-1ca1-474a-916e-bdebc2539da4' class='xr-section-summary' >Indexes: <span>(1)</span></label><div class='xr-section-inline-details'></div><div class='xr-section-details'><ul class='xr-var-list'><li class='xr-var-item'><div class='xr-index-name'><div>lon</div></div><div class='xr-index-preview'>PandasIndex</div><div></div><input id='index-18a30ffd-3785-49b9-9953-2d3ecfad07d5' class='xr-index-data-in' type='checkbox'/><label for='index-18a30ffd-3785-49b9-9953-2d3ecfad07d5' title='Show/Hide index repr'><svg class='icon xr-icon-database'><use xlink:href='#icon-database'></use></svg></label><div class='xr-index-data'><pre>PandasIndex(Index([ -130.0, -128.75,  -127.5, -126.25,  -125.0, -123.75,  -122.5, -121.25,\n",
       "        -120.0, -118.75,\n",
       "       ...\n",
       "         33.75,    35.0,   36.25,    37.5,   38.75,    40.0,   41.25,    42.5,\n",
       "         43.75,    45.0],\n",
       "      dtype=&#x27;float64&#x27;, name=&#x27;lon&#x27;, length=141))</pre></div></li></ul></div></li><li class='xr-section-item'><input id='section-2fbd6a65-32f3-4f1f-b362-236aeca81ee4' class='xr-section-summary-in' type='checkbox'  checked><label for='section-2fbd6a65-32f3-4f1f-b362-236aeca81ee4' class='xr-section-summary' >Attributes: <span>(5)</span></label><div class='xr-section-inline-details'></div><div class='xr-section-details'><dl class='xr-attrs'><dt><span>standard_name :</span></dt><dd>longitude</dd><dt><span>long_name :</span></dt><dd>Longitude</dd><dt><span>units :</span></dt><dd>degrees_east</dd><dt><span>axis :</span></dt><dd>X</dd><dt><span>bounds :</span></dt><dd>lon_bnds</dd></dl></div></li></ul></div></div>"
      ],
      "text/plain": [
       "<xarray.DataArray 'lon' (lon: 141)>\n",
       "array([-130.  , -128.75, -127.5 , -126.25, -125.  , -123.75, -122.5 , -121.25,\n",
       "       -120.  , -118.75, -117.5 , -116.25, -115.  , -113.75, -112.5 , -111.25,\n",
       "       -110.  , -108.75, -107.5 , -106.25, -105.  , -103.75, -102.5 , -101.25,\n",
       "       -100.  ,  -98.75,  -97.5 ,  -96.25,  -95.  ,  -93.75,  -92.5 ,  -91.25,\n",
       "        -90.  ,  -88.75,  -87.5 ,  -86.25,  -85.  ,  -83.75,  -82.5 ,  -81.25,\n",
       "        -80.  ,  -78.75,  -77.5 ,  -76.25,  -75.  ,  -73.75,  -72.5 ,  -71.25,\n",
       "        -70.  ,  -68.75,  -67.5 ,  -66.25,  -65.  ,  -63.75,  -62.5 ,  -61.25,\n",
       "        -60.  ,  -58.75,  -57.5 ,  -56.25,  -55.  ,  -53.75,  -52.5 ,  -51.25,\n",
       "        -50.  ,  -48.75,  -47.5 ,  -46.25,  -45.  ,  -43.75,  -42.5 ,  -41.25,\n",
       "        -40.  ,  -38.75,  -37.5 ,  -36.25,  -35.  ,  -33.75,  -32.5 ,  -31.25,\n",
       "        -30.  ,  -28.75,  -27.5 ,  -26.25,  -25.  ,  -23.75,  -22.5 ,  -21.25,\n",
       "        -20.  ,  -18.75,  -17.5 ,  -16.25,  -15.  ,  -13.75,  -12.5 ,  -11.25,\n",
       "        -10.  ,   -8.75,   -7.5 ,   -6.25,   -5.  ,   -3.75,   -2.5 ,   -1.25,\n",
       "          0.  ,    1.25,    2.5 ,    3.75,    5.  ,    6.25,    7.5 ,    8.75,\n",
       "         10.  ,   11.25,   12.5 ,   13.75,   15.  ,   16.25,   17.5 ,   18.75,\n",
       "         20.  ,   21.25,   22.5 ,   23.75,   25.  ,   26.25,   27.5 ,   28.75,\n",
       "         30.  ,   31.25,   32.5 ,   33.75,   35.  ,   36.25,   37.5 ,   38.75,\n",
       "         40.  ,   41.25,   42.5 ,   43.75,   45.  ])\n",
       "Coordinates:\n",
       "  * lon      (lon) float64 -130.0 -128.8 -127.5 -126.2 ... 41.25 42.5 43.75 45.0\n",
       "    height   float64 ...\n",
       "Attributes:\n",
       "    standard_name:  longitude\n",
       "    long_name:      Longitude\n",
       "    units:          degrees_east\n",
       "    axis:           X\n",
       "    bounds:         lon_bnds"
      ]
     },
     "execution_count": 34,
     "metadata": {},
     "output_type": "execute_result"
    }
   ],
   "source": [
    "xrdf[lonfield]"
   ]
  },
  {
   "cell_type": "code",
   "execution_count": null,
   "id": "a5ca5255-1c35-4614-9547-2105f913bb21",
   "metadata": {},
   "outputs": [],
   "source": []
  }
 ],
 "metadata": {
  "kernelspec": {
   "display_name": "clintwp5",
   "language": "python",
   "name": "clintwp5"
  },
  "language_info": {
   "codemirror_mode": {
    "name": "ipython",
    "version": 3
   },
   "file_extension": ".py",
   "mimetype": "text/x-python",
   "name": "python",
   "nbconvert_exporter": "python",
   "pygments_lexer": "ipython3",
   "version": "3.11.5"
  }
 },
 "nbformat": 4,
 "nbformat_minor": 5
}
