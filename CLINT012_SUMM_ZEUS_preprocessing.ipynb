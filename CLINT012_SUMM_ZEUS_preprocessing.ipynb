{
 "cells": [
  {
   "cell_type": "markdown",
   "id": "3282f375-1f85-432f-b6bb-883e89ffe410",
   "metadata": {},
   "source": [
    "## Intermediate steps performed on ZEUS\n",
    "\n",
    "Hourly files available on ZEUS were aggregated on a daily basis (daily largest max temp and daily average mslp).\n",
    "Climatological averages on the period 1981-2010 were calculated.\n",
    "This allowed to calculate daily anomalies for the years 2019 and 2022 which include the two considered case studies\n",
    "\n",
    "(scripts CLINT011 to CLINT015)"
   ]
  }
 ],
 "metadata": {
  "kernelspec": {
   "display_name": "Python 3 (ipykernel)",
   "language": "python",
   "name": "python3"
  },
  "language_info": {
   "codemirror_mode": {
    "name": "ipython",
    "version": 3
   },
   "file_extension": ".py",
   "mimetype": "text/x-python",
   "name": "python",
   "nbconvert_exporter": "python",
   "pygments_lexer": "ipython3",
   "version": "3.11.4"
  }
 },
 "nbformat": 4,
 "nbformat_minor": 5
}
