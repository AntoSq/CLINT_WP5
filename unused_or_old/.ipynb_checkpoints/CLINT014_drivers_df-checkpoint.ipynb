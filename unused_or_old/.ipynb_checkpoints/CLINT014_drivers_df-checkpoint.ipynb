{
 "cells": [
  {
   "cell_type": "markdown",
   "id": "d96c8808-1056-484b-97a2-b455457b0bad",
   "metadata": {},
   "source": [
    "# CLINT WP5 : Define drivers, lags and where to find them\n",
    "### 2023/08/21"
   ]
  },
  {
   "cell_type": "code",
   "execution_count": 20,
   "id": "f447d67f-3f43-4af1-9435-bccebfdcb94c",
   "metadata": {
    "tags": []
   },
   "outputs": [],
   "source": [
    "import numpy as np\n",
    "import pandas as pd\n"
   ]
  },
  {
   "cell_type": "code",
   "execution_count": 21,
   "id": "58b2c182-34ba-4c58-b587-3f8d7151b111",
   "metadata": {
    "tags": []
   },
   "outputs": [],
   "source": [
    "## DIRECTORIES\n",
    "machine = 'laptop'\n",
    "\n",
    "if machine == 'laptop':\n",
    "    modeldir = '~/Documents/CMCC-GoogleDrive/ERA5/'\n",
    "    \n",
    "if machine == 'workstation':\n",
    "    modeldir = '~/Documents/CLINT-GoogleDrive/ERA5/'"
   ]
  },
  {
   "cell_type": "code",
   "execution_count": 30,
   "id": "7f42a581-a519-4020-8032-faba75788dd8",
   "metadata": {
    "tags": []
   },
   "outputs": [],
   "source": [
    "### Lags for drivers\n",
    "lag_tmax_EU1 = np.arange(0,16)  ## Central Europe\n",
    "lag_tmax_EU2 = np.arange(30,41) ## North Atlantic\n",
    "lag_mslp_EU1 = np.arange(0,8)   ## Mediterranean\n",
    "lag_mslp_EU2 = np.arange(70,86) ## Eastern Europe\n",
    "lag_mslp_WO2 = np.arange(40,61) ## Greenland\n",
    "lag_sm_EU1 = np.arange(0,26)    ## Eastern Europe\n",
    "lag_sic_AC1 = np.arange(30,51)  ## North Atlantic and North Pacific\n",
    "\n",
    "## Dataframe lags\n",
    "\n",
    "drivers = pd.DataFrame({'var':['tmax','tmax','mslp','mslp','mslp','sm','sic'],#name of variable\n",
    "                       'nc_var':['mx2t','mx2t','msl','msl','msl','swvl1','sic'], #name of variable in the netcdf\n",
    "                       'test_nr':[3,3,3,3,3,3,3], #id number of experiment\n",
    "                       'cluster':['EU1t','EU2t','EU1p','EU2p','WO2p','EU1sm','AC1sic'], #code of cluster\n",
    "                       'cluster_info':['Central Europe','North Atlantic','Mediterranean','Eastern Europe',\n",
    "                                       'Greenland','Eastern Europe','North Atlantic and North Pacific'], #name of cluster\n",
    "                       'minlag':[0,30,0,70,40,0,30], #minimum lead time to be considered\n",
    "                       'maxlag':[16,41,8,86,61,26,51], #maximum lead time\n",
    "                       'cluster_centre_lon':[14,-6,4,32,-78,24,np.nan], #centroid of the cluster, longitude\n",
    "                       'cluster_centre_lat':[54,42,36,54,80,56,np.nan], #centroid of the cluster, latitude\n",
    "                       'cl_ortho_lon':[14,0,14,29,-56,30,np.nan], #figure param: centre of projection, lon\n",
    "                       'cl_ortho_lat':[49,50,40,51,72,54,np.nan], # as above but lat\n",
    "                       'cl_ext_W':[-2,-18,-16,12,-85,14,np.nan], #fig param: extremes of clusters\n",
    "                       'cl_ext_E':[30,18,44,46,-20,46,np.nan],\n",
    "                       'cl_ext_S':[38,28,25,44,48,46,np.nan],\n",
    "                       'cl_ext_N':[60,72,50,63,90,62,np.nan],\n",
    "                       'text_plot_lon':[28,20,np.nan,np.nan,-35,np.nan,np.nan],# fig param: where to plot the lead time\n",
    "                       'text_plot_lat':[58,65,np.nan,np.nan,55,np.nan,np.nan],\n",
    "                       'fig_width':[60,60,60,60,72,60,np.nan], #figure width\n",
    "                       'ax_width':[12,12,20,12,12,15,np.nan], #width of the plots that compose the figures\n",
    "                       'ax_height':[9,13,9,9,11,10,np.nan], #height of the plots that compose the figures\n",
    "                       'clmask_test3':['labels7t2mEurope5.csv','labels7t2mEurope5.csv',\n",
    "                                       'labels1mslpEurope5.csv','labels1mslpEurope5.csv',\n",
    "                                       'labels2mslpWorld5.csv','labels3sm1Europe5.csv',np.nan], \n",
    "                        #name of the file with cluster details\n",
    "                       'cl_nr':[1,2,1,2,2,1,1], #number of the cluster as it appears in the file above\n",
    "                       'vmin':[-10,-10,-20,-20,-20,-0.2,-0.2], #minimum value for the maps\n",
    "                       'vmax':[10,10,20,20,20,0.2,0.2], #maximum value for the maps\n",
    "                       'empty':[np.nan,np.nan,np.nan,np.nan,np.nan,np.nan,np.nan]}) \n",
    "drivers['meanlag'] = np.floor(drivers[['minlag', 'maxlag']].mean(axis=1)).astype(int)\n",
    "\n",
    "drivers.to_csv('./metadata/drivers.csv', index=False)"
   ]
  },
  {
   "cell_type": "code",
   "execution_count": null,
   "id": "8d259f42-12fb-48e6-997d-4e2009b5226e",
   "metadata": {},
   "outputs": [],
   "source": []
  }
 ],
 "metadata": {
  "kernelspec": {
   "display_name": "Python 3 (ipykernel)",
   "language": "python",
   "name": "python3"
  },
  "language_info": {
   "codemirror_mode": {
    "name": "ipython",
    "version": 3
   },
   "file_extension": ".py",
   "mimetype": "text/x-python",
   "name": "python",
   "nbconvert_exporter": "python",
   "pygments_lexer": "ipython3",
   "version": "3.11.4"
  }
 },
 "nbformat": 4,
 "nbformat_minor": 5
}
