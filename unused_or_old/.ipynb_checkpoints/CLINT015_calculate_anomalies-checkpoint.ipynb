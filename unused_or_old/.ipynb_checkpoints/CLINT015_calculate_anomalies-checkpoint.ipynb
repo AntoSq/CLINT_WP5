{
 "cells": [
  {
   "cell_type": "code",
   "execution_count": 1,
   "id": "00aec611-dbbe-464c-a79b-7893861d1260",
   "metadata": {},
   "outputs": [],
   "source": [
    "import os"
   ]
  },
  {
   "cell_type": "code",
   "execution_count": null,
   "id": "0b44e626-a3ec-416a-852c-41d5c0e0ee3c",
   "metadata": {},
   "outputs": [],
   "source": []
  }
 ],
 "metadata": {
  "kernelspec": {
   "display_name": "Python 3",
   "language": "python",
   "name": "python3"
  },
  "language_info": {
   "codemirror_mode": {
    "name": "ipython",
    "version": 3
   },
   "file_extension": ".py",
   "mimetype": "text/x-python",
   "name": "python",
   "nbconvert_exporter": "python",
   "pygments_lexer": "ipython3",
   "version": "3.8.8"
  }
 },
 "nbformat": 4,
 "nbformat_minor": 5
}
