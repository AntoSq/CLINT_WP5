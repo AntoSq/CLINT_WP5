{
 "cells": [
  {
   "cell_type": "code",
   "execution_count": 2,
   "id": "00aec611-dbbe-464c-a79b-7893861d1260",
   "metadata": {},
   "outputs": [
    {
     "ename": "ModuleNotFoundError",
     "evalue": "No module named 'cdo'",
     "output_type": "error",
     "traceback": [
      "\u001b[0;31m---------------------------------------------------------------------------\u001b[0m",
      "\u001b[0;31mModuleNotFoundError\u001b[0m                       Traceback (most recent call last)",
      "\u001b[0;32m<ipython-input-2-5f97ff1da904>\u001b[0m in \u001b[0;36m<module>\u001b[0;34m\u001b[0m\n\u001b[1;32m      1\u001b[0m \u001b[0;32mimport\u001b[0m \u001b[0mos\u001b[0m\u001b[0;34m\u001b[0m\u001b[0;34m\u001b[0m\u001b[0m\n\u001b[0;32m----> 2\u001b[0;31m \u001b[0;32mimport\u001b[0m \u001b[0mcdo\u001b[0m\u001b[0;34m\u001b[0m\u001b[0;34m\u001b[0m\u001b[0m\n\u001b[0m\u001b[1;32m      3\u001b[0m \u001b[0;32mfrom\u001b[0m \u001b[0mcdo\u001b[0m \u001b[0;32mimport\u001b[0m \u001b[0;34m*\u001b[0m\u001b[0;34m\u001b[0m\u001b[0;34m\u001b[0m\u001b[0m\n\u001b[1;32m      4\u001b[0m \u001b[0mcdo\u001b[0m \u001b[0;34m=\u001b[0m \u001b[0mCdo\u001b[0m\u001b[0;34m(\u001b[0m\u001b[0;34m)\u001b[0m\u001b[0;34m\u001b[0m\u001b[0;34m\u001b[0m\u001b[0m\n",
      "\u001b[0;31mModuleNotFoundError\u001b[0m: No module named 'cdo'"
     ]
    }
   ],
   "source": [
    "import os\n",
    "from cdo import *\n",
    "cdo = Cdo()\n"
   ]
  },
  {
   "cell_type": "code",
   "execution_count": 5,
   "id": "bf1632d4-89fc-4bdb-83d9-6becab6f8dc0",
   "metadata": {},
   "outputs": [],
   "source": [
    "## DIRECTORIES\n",
    "machine = 'laptop'\n",
    "\n",
    "if machine == 'laptop':\n",
    "    modeldir = '~/Documents/CMCC-GoogleDrive/ERA5/'\n",
    "    \n",
    "if machine == 'workstation':\n",
    "    modeldir = '~/Documents/CLINT-GoogleDrive/ERA5/'"
   ]
  },
  {
   "cell_type": "code",
   "execution_count": 6,
   "id": "ca909d6d-24f8-4837-9041-d6819d65d3a7",
   "metadata": {},
   "outputs": [],
   "source": [
    "vars = ['tmax','mslp']\n",
    "years = [2019,2022]"
   ]
  },
  {
   "cell_type": "code",
   "execution_count": 7,
   "id": "6d7b8108-239c-43c6-82dc-b285d518efcf",
   "metadata": {},
   "outputs": [],
   "source": [
    "y=2019\n",
    "var='tmax'"
   ]
  },
  {
   "cell_type": "code",
   "execution_count": 8,
   "id": "0b44e626-a3ec-416a-852c-41d5c0e0ee3c",
   "metadata": {},
   "outputs": [
    {
     "data": {
      "text/plain": [
       "32512"
      ]
     },
     "execution_count": 8,
     "metadata": {},
     "output_type": "execute_result"
    }
   ],
   "source": [
    "os.system(f\"cdo ydaysub {modeldir}era5_single_levels_{var}_daily_{y}_cropped.nc era5_single_levels_{var}_ydailyclim_8110_cropped.nc era5_single_levels_{var}_anom_daily_{y}_cropped.nc\")"
   ]
  },
  {
   "cell_type": "code",
   "execution_count": null,
   "id": "1cdbc38c-fb0d-402d-b678-187d7482c8c7",
   "metadata": {},
   "outputs": [],
   "source": []
  }
 ],
 "metadata": {
  "kernelspec": {
   "display_name": "Python 3",
   "language": "python",
   "name": "python3"
  },
  "language_info": {
   "codemirror_mode": {
    "name": "ipython",
    "version": 3
   },
   "file_extension": ".py",
   "mimetype": "text/x-python",
   "name": "python",
   "nbconvert_exporter": "python",
   "pygments_lexer": "ipython3",
   "version": "3.8.8"
  }
 },
 "nbformat": 4,
 "nbformat_minor": 5
}
